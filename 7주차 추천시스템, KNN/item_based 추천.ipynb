def most_similar_interests_to(item_id):

    pairs = [(unique_interests[other_item_id], similarity) # unique_interests의 항목이름, 유사도 pair                   

             for other_item_id, similarity in               

                enumerate(interest_similarities[item_id]) # item간의 유사도를 구한 matrix에서 id에 해당하는 행

             if item_id != other_item_id and similarity > 0]



    return sorted(pairs,                                      

                  key=lambda pair: [pair[1]],                   

                  reverse=True)        



def item_based_suggestions(user_id, include_current_interests=False):

    

    suggestions = defaultdict(float)

    target = users_interests[user_id] # 해당 user가 관심있는 리스트

    target_index = [unique_interests.index(t) for t in target] # user가 관심있는 것들을 unique_interests에서 index로 가져옴

    for item_id in target_index:

        for other_item, similarity in most_similar_interests_to(item_id):

            suggestions[other_item] += similarity # item의 이름 기준, 해당하는 similarity 모두 더함

    

    suggestions = sorted(suggestions.items(),

                         key=lambda pair: pair[1],

                         reverse=True)

    if include_current_interests:

        return suggestions

    else:

        return [(suggestion, weight)

                for suggestion, weight in suggestions

                if suggestion not in users_interests[user_id]]