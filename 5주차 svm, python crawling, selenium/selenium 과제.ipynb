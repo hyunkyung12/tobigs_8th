from selenium import webdriver

from selenium.webdriver.common.keys import Keys

import time

import json



# 구글 이미지 크롤링 할것을 keyward에 입력



def google(keyward):

    driver = webdriver.Chrome('C:\\Users\\USER\\Desktop\\투빅스\\5주차\\chromedriver')

    driver.get("https://www.google.co.kr")



    # 키워드를 입력한 화면으로

    search = driver.find_element_by_id("lst-ib")

    search.send_keys(keyward)

    search.send_keys(Keys.ENTER)

    

    # 이미지만 모여있는 화면으로

    driver.get(driver.current_url)

    image = driver.find_element_by_class_name("qs")

    image.click()

    

    # 이미지 영역 뽑기

    driver.get(driver.current_url)

    img = driver.find_element_by_id("center_col")

    a1 = img.find_element_by_id("rg_s")

    a2 = a1.find_elements_by_css_selector('.rg_meta')

    

    # innertext 뽑기

    text = []

    for i in range(len(a2)):

        pre = a2[i].get_attribute('innerText')

        text.append(pre)

    

    # json코드로 ou를 가진 곳 (url)로 이동

    for i in range(len(a2)):

        data = json.loads(text[i])

        page = driver.get(data['ou'])

        save = driver.save_screenshot('result'+str(i)+'.png')