{
 "cells": [
  {
   "cell_type": "markdown",
   "metadata": {},
   "source": [
    "# Assignment1\n",
    "\n",
    "> ###  이번 과제는 간단한 질문 30개입니다. <br> 이 파일에 답을 써서 그대로 제출해주세요! <br> 질문이 이해가 안 된다면 카톡 주세요~~ <br> 이상한 문제가 있을 수도 있습니다! 꼭 알려주세요! <br> 남은 2주를 위해서 귀찮더라도 꼭 해주시길 바랍니다!!"
   ]
  },
  {
   "cell_type": "markdown",
   "metadata": {},
   "source": [
    "#### Q1. pdf 2개 다시 한번 꼭 봐주세요. 하늘에 맹세하고 다시 한번 보셨나요?"
   ]
  },
  {
   "cell_type": "markdown",
   "metadata": {},
   "source": [
    "A1 : 넵!"
   ]
  },
  {
   "cell_type": "markdown",
   "metadata": {},
   "source": [
    "#### Q2. 여기 들어가 보세요. https://en.wikipedia.org/wiki/Graph_theory  <br> 오른쪽에 그래프 그림이 있죠? <br> 그 그림에서 노드와 엣지의 갯수는 몇 개인가요?"
   ]
  },
  {
   "cell_type": "markdown",
   "metadata": {},
   "source": [
    "A2 : 노드 6개 엣지 7개"
   ]
  },
  {
   "cell_type": "markdown",
   "metadata": {},
   "source": [
    "#### Q3. 실습 파일에서 3번째 Cell의 Output이 왜 42가 아닐까요?"
   ]
  },
  {
   "cell_type": "markdown",
   "metadata": {},
   "source": [
    "A3 : 아직 변수가 초기화 되지 않았고, 변수로 계산도 하지 않았기 때문"
   ]
  },
  {
   "cell_type": "markdown",
   "metadata": {},
   "source": [
    "#### Q4. 실습 파일에서 4번째, 10번째 Cell을 보세요! 저렇게 코드를 끝마치면 안 되는 이유는?"
   ]
  },
  {
   "cell_type": "markdown",
   "metadata": {},
   "source": [
    "A4 : session을 실행시킨 후 종료하지 않았기 때문에 오류가 생길 수 있음"
   ]
  },
  {
   "cell_type": "markdown",
   "metadata": {},
   "source": [
    "#### Q5. <br>6번째 Cell에서 x.initializer.run() -> x.initializer.eval()로 했을 때 어떤 에러가 뜨는지 확인하세요.<br>추가로 f.eval() -> f.run()으로 했을 때 어떤 에러가 뜨는지 확인하세요. <br> 어떤 에러가 떴는지 둘 다 써주세요."
   ]
  },
  {
   "cell_type": "markdown",
   "metadata": {},
   "source": [
    "A5 : 'Tensor' object has no attribute 'initializer' <br>'Tensor' object has no attribute 'run'"
   ]
  },
  {
   "cell_type": "markdown",
   "metadata": {},
   "source": [
    "#### Q6. 12번째 Cell에서 에러가 뜨는 이유는?"
   ]
  },
  {
   "cell_type": "markdown",
   "metadata": {},
   "source": [
    "A6 : 11번째 Cell에서 close 한 후 init 하지 않고 run을 했기 때문에"
   ]
  },
  {
   "cell_type": "markdown",
   "metadata": {},
   "source": [
    "#### Q7. 13번째 Cell에서 reset_graph() 함수를 실행시켜주는 이유는? 1번째 Cell의 reset_graph 정의 부분을 보고 답해주세요"
   ]
  },
  {
   "cell_type": "markdown",
   "metadata": {},
   "source": [
    "A7 : 고정된 seed값을 사용, reset 상태를 만들기 위해"
   ]
  },
  {
   "cell_type": "markdown",
   "metadata": {},
   "source": [
    "#### Q8. 19번째 Cell에서 housing_data_plus_bias = np.c_[np.ones((m, 1)), housing.data] 이 코드를 해주는 이유는?"
   ]
  },
  {
   "cell_type": "markdown",
   "metadata": {},
   "source": [
    "A8 : 1로만 이루어진 bias 벡터 열을 추가해줌, "
   ]
  },
  {
   "cell_type": "markdown",
   "metadata": {},
   "source": [
    "#### Q9. 23번째 Cell에서 axis=0의 의미는?"
   ]
  },
  {
   "cell_type": "markdown",
   "metadata": {},
   "source": [
    "A9 : 0+1 차원 (1차원) 끼리의 평균"
   ]
  },
  {
   "cell_type": "markdown",
   "metadata": {},
   "source": [
    "#### Q10. 24번째 Cell에 gradients = 2/m * tf.matmul(tf.transpose(X), error) 부분이 있습니다. 2는 어디서 온 것일까요?"
   ]
  },
  {
   "cell_type": "markdown",
   "metadata": {},
   "source": [
    "A10 : 제곱합을 미분하면서 2승이 2로 내려온것"
   ]
  },
  {
   "cell_type": "markdown",
   "metadata": {},
   "source": [
    "#### Q11. 24번째 Cell의 with 구문 안을 보세요! 수많은 노드 중에 어떤 노드만 run을 해주나요? (답 2개)"
   ]
  },
  {
   "cell_type": "markdown",
   "metadata": {},
   "source": [
    "A11 : 1. n_epochs 의 범위 내에서 2. 100*n 번째의 노드들"
   ]
  },
  {
   "cell_type": "markdown",
   "metadata": {},
   "source": [
    "#### Q12. 27번째 Cell의 장점은?"
   ]
  },
  {
   "cell_type": "markdown",
   "metadata": {},
   "source": [
    "A12 : 미분한 식을 써줄 필요가 없다 (알아서 미분)"
   ]
  },
  {
   "cell_type": "markdown",
   "metadata": {},
   "source": [
    "#### Q13.<br> 31번째 Cell에서 두 변수에 대한 gradient를 구할 때 어떻게 하면 되는지 확인하세요! <br>추가로 c변수의 gradient도 구하고 싶으면 코드를 어떻게 바꾸면 되나요?"
   ]
  },
  {
   "cell_type": "markdown",
   "metadata": {},
   "source": [
    "A13 : c = tf.Variable() 로 c를 정의해 준 후 grads = tf.gradients(z, [a,b,c])로 바꿔줌"
   ]
  },
  {
   "cell_type": "markdown",
   "metadata": {},
   "source": [
    "#### Q14. 34번째 Cell의 장점은?"
   ]
  },
  {
   "cell_type": "markdown",
   "metadata": {},
   "source": [
    "A14 : operation을 돌리면 자동으로 gradient descent가 됨"
   ]
  },
  {
   "cell_type": "markdown",
   "metadata": {},
   "source": [
    "#### Q15. 36번째 Cell에서 B를 두 번 실행시킵니다. 이때 feed_dict를 A에 해주는 이유는?"
   ]
  },
  {
   "cell_type": "markdown",
   "metadata": {},
   "source": [
    "A15 : placeholder에 값을 넣어주기 위해"
   ]
  },
  {
   "cell_type": "markdown",
   "metadata": {},
   "source": [
    "#### Q16. <br> 36번째 Cell에서 B를 두 번 실행시킵니다. 이때 A에 feed_dict를 해줍니다. 그런데 두 코드에서 A의 shape이 다릅니다. <br> 처음 A라는 placeholder 노드를 만들 때 어떤 코드 때문에 이게 가능할까요?"
   ]
  },
  {
   "cell_type": "markdown",
   "metadata": {},
   "source": [
    "A16 : shape = (None,3) 에서 None 때문에"
   ]
  },
  {
   "cell_type": "markdown",
   "metadata": {},
   "source": [
    "#### Q17. 순서대로 실행하세요. <br> 1. 윈도우 + R <br> 2. cmd 입력 후 엔터<br> 3. python 입력 후 엔터<br> 4. import numpy as np <br>5. a = np.array([1,2,3]) <br> 6. b=np.array([[1,2,3], [1,2,3]])<br> 7. c=np.array([[[1,2,3], [4,5,6], [7,8,9]], [[1,2,3], [4,5,6], [7,8,9]]])<br> 8. a.shape <br> 9. b.shape <br> 10. c.shape <br> 11. a, b, c shape이 어떻게 되나요? 결과값을 이해해보세요!"
   ]
  },
  {
   "cell_type": "markdown",
   "metadata": {},
   "source": [
    "A17 : a는 (3,) b는 (2,3) c는 (2,3,3) <i>앞에서 부터 순서대로 높은차원 -> 낮은차원</i>"
   ]
  },
  {
   "cell_type": "markdown",
   "metadata": {},
   "source": [
    "#### Q18. 위의 코드에서 추가로 실행하세요. <br> 1. np.mean(b) <br> 2. np.mean(b, axis=0) <br> 3. np.mean(b, axis=1) <br> 4. np.mean(c) <br> 5. np.mean(c, axis=0) <br> 6. np.mean(c, axis=1) <br> 7.np.mean(axis=2) <br> 8.결과를 써주세요! 결과값을 이해해보세요!"
   ]
  },
  {
   "cell_type": "markdown",
   "metadata": {},
   "source": [
    "A18 : <br>\n",
    "1. 2.0 <br>\n",
    "2. array([1.,2.,3.])<br>\n",
    "3. array([2.,2.])<br>\n",
    "4. 5.0<br>\n",
    "5. array([[ 1., 2., 3.],[4.,5.,6.],[7.,8.,9.]])<br>\n",
    "6. array([[ 4., 5., 6.],[ 4., 5., 6.]])<br>\n",
    "7. error <i> mean을 구할 대상이 없으므로 error </i>"
   ]
  },
  {
   "cell_type": "markdown",
   "metadata": {},
   "source": [
    "#### Q19. 42번째 Cell에서 floor가 아닌 ceil을 해주는 이유는?"
   ]
  },
  {
   "cell_type": "markdown",
   "metadata": {},
   "source": [
    "A19 : floor로 반올림을 해주면 0이 생길수도 있기 때문"
   ]
  },
  {
   "cell_type": "markdown",
   "metadata": {},
   "source": [
    "#### Q20. <br>43번째 Cell의 코드를 이해해보세요. <br>이 코드에서는 mini batch를 만들 때 복원추출을 하나요 비복원추출을 하나요? <br>그럼 mini batch를 만들 때 꼭 그 방법으로 해야 하나요?"
   ]
  },
  {
   "cell_type": "markdown",
   "metadata": {},
   "source": [
    "A20 : 복원추출, 비복원추출로 해도 관계없음"
   ]
  },
  {
   "cell_type": "markdown",
   "metadata": {},
   "source": [
    "#### Q21. <br> https://machinelearningmastery.com/gentle-introduction-mini-batch-gradient-descent-configure-batch-size/ 들어가셔서<br>  마지막 파트인 How to Configure Mini-Batch Gradient Descent 부분을 읽고 대략적으로 이해해주세요. 읽었으면 짧게 요약해주세요."
   ]
  },
  {
   "cell_type": "markdown",
   "metadata": {},
   "source": [
    "A21 : batch 의 size를 다양하게 조절해가면서 training을 해보되,<br> 너무 작은 값은 빨리 수렴하지만 noise가 많고,<br> 너무 큰 값은 느리게 수렴하지만 정확도가 높다는 것을 알아야 한다.<br> 또한 다른 hyperparameters를 모두 튜닝 한 후 batch size를 조정하는것이 좋다. "
   ]
  },
  {
   "cell_type": "markdown",
   "metadata": {},
   "source": [
    "##### Q22. 우리가 가진 데이터에 observation이 10000개입니다. batch size를 128개로 했을 때 비복원추출이면 총 몇 개의 mini batch가 되나요? "
   ]
  },
  {
   "cell_type": "markdown",
   "metadata": {},
   "source": [
    "A22 : 79"
   ]
  },
  {
   "cell_type": "markdown",
   "metadata": {},
   "source": [
    "#### Q23. <br> 데이터의 observation이 100개가 있습니다. <br> Linear Regression의 parameter(우리 실습 코드에서는 theta)를 총 1000번 업데이트 해주고 싶습니다. <br>  Batch GD, SGD(stochastic GD), mini-batch GD( batch size= 10)를 직접 구현한다고 했을 때, epoch과 iteration을 각각 몇으로 설정해야 할까요?"
   ]
  },
  {
   "cell_type": "markdown",
   "metadata": {},
   "source": [
    "A23 : epoch 10 iteration 1000"
   ]
  },
  {
   "cell_type": "markdown",
   "metadata": {},
   "source": [
    "#### Q24. 46번째 Cell에서 saver.save를 두 번 실행시켜준 의도는?"
   ]
  },
  {
   "cell_type": "markdown",
   "metadata": {},
   "source": [
    "A24 : 첫번째 save는 원하는 epoch값에 대한 저장이고 두번째 save는 best_theta에 대한 저장이다 ?"
   ]
  },
  {
   "cell_type": "markdown",
   "metadata": {},
   "source": [
    "#### Q25. 46번째 Cell을 이해해보세요. tf.train.Saver 노드는 언제 만들어줘야 하나요?"
   ]
  },
  {
   "cell_type": "markdown",
   "metadata": {},
   "source": [
    "A25 : 계산을 하는 부분이 모두 끝난 후에"
   ]
  },
  {
   "cell_type": "markdown",
   "metadata": {},
   "source": [
    "#### Q26. <br> 49번째 Cell을 보세요. 새로운 Cell을 만들어서 np.allclose? 라고 입력해보세요(물음표 포함!!).<br>  49번째 cell을 실행시킨 이유와 output이 True가 나온 이유를 말해주세요"
   ]
  },
  {
   "cell_type": "markdown",
   "metadata": {},
   "source": [
    "A26 : 두 parameter의 짝이 일치하기 때문"
   ]
  },
  {
   "cell_type": "markdown",
   "metadata": {},
   "source": [
    "#### Q27. 50번째 Cell을 이해해보세요. 이해하셨나요?"
   ]
  },
  {
   "cell_type": "markdown",
   "metadata": {},
   "source": [
    "A27 : 완벽히는 모르겠습니다..ㅠ"
   ]
  },
  {
   "cell_type": "markdown",
   "metadata": {},
   "source": [
    "#### Q28. 59번째 Cell을 보세요. tensorboard를 위해서 넣은 코드가 몇 줄있나요? <br> if batch_index % 10 == 0: 를 넣은 이유를 속도적인 측면에서 설명해주세요."
   ]
  },
  {
   "cell_type": "markdown",
   "metadata": {},
   "source": [
    "A28 : file_writer~ 한줄, 200번이 넘는 batch를 다 돌면 시간이 오래걸리기 때문에 일부 값들만 실행하도록 한 것"
   ]
  },
  {
   "cell_type": "markdown",
   "metadata": {},
   "source": [
    "#### Q29. 지난 실습 코드대로 TENSORBOARD를 실행시켜보세요. MSE 그래프와 저희가 만든 TENSORFLOW GRAPH를 확인해보세요. <br> 각각 스크린샷을 찍어서 과제랑 같이 제출해주세요."
   ]
  },
  {
   "cell_type": "markdown",
   "metadata": {},
   "source": [
    "#### Q30. 지난 시간 강의 pdf와 Tensorflow 실습에서 이해가 안 되거나 궁금한 것을 1개 이상 써주세요. <br>많이 써주실수록 다음 강의 준비할 때 도움이 됩니다!!"
   ]
  },
  {
   "cell_type": "markdown",
   "metadata": {},
   "source": [
    "A30 : graph 부분을 잘 이해하지 못했어요..ㅠㅠ 자체를 저장하는것과 tensorboard 사용하는 법 둘다 잘 이해를 못했어요.. 수요일 전까지 복습해 갈게요!"
   ]
  },
  {
   "cell_type": "markdown",
   "metadata": {},
   "source": [
    "## 정말 정말 수고 많으셨습니다!!"
   ]
  }
 ],
 "metadata": {
  "anaconda-cloud": {},
  "kernelspec": {
   "display_name": "Python [conda root]",
   "language": "python",
   "name": "conda-root-py"
  },
  "language_info": {
   "codemirror_mode": {
    "name": "ipython",
    "version": 3
   },
   "file_extension": ".py",
   "mimetype": "text/x-python",
   "name": "python",
   "nbconvert_exporter": "python",
   "pygments_lexer": "ipython3",
   "version": "3.5.2"
  }
 },
 "nbformat": 4,
 "nbformat_minor": 1
}
